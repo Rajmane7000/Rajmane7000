{
  "cells": [
    {
      "cell_type": "markdown",
      "metadata": {
        "id": "PUIweiGe9fjt"
      },
      "source": [
        "![openclassrooms](https://s3.eu-west-1.amazonaws.com/course.oc-static.com/courses/6204541/1+HnqdJ-5ofxiPP9HIxdNdpw.jpeg)\n",
        "\n",
        "# Learn Python Basics for Data Analysis\n",
        "\n",
        "## Choose the Appropriate Loop\n",
        "\n",
        "<br><br>\n",
        "\n",
        "**Writing FOR and WHILE loops**\n",
        "\n",
        "Create a `for` loop that prints: \"OpenClassrooms is really great!\" five times"
      ]
    },
    {
      "cell_type": "code",
      "execution_count": 2,
      "metadata": {
        "id": "xElc-kOx9fjv",
        "outputId": "a4b852f0-fbe4-4db3-fc3a-4d261223b4ef",
        "colab": {
          "base_uri": "https://localhost:8080/"
        }
      },
      "outputs": [
        {
          "output_type": "stream",
          "name": "stdout",
          "text": [
            "OpenClassrooms is really great!\n",
            "OpenClassrooms is really great!\n",
            "OpenClassrooms is really great!\n",
            "OpenClassrooms is really great!\n",
            "OpenClassrooms is really great!\n"
          ]
        }
      ],
      "source": [
        "for i in range(5):\n",
        "    print(\"OpenClassrooms is really great!\")"
      ]
    },
    {
      "cell_type": "markdown",
      "metadata": {
        "id": "O0CYek3D9fjw"
      },
      "source": [
        "Change your `for` loop to a `while` loop:"
      ]
    },
    {
      "cell_type": "code",
      "execution_count": 3,
      "metadata": {
        "id": "poigJ0nT9fjx",
        "outputId": "209d677c-e235-40ca-82a6-eb585a9eb508",
        "colab": {
          "base_uri": "https://localhost:8080/"
        }
      },
      "outputs": [
        {
          "output_type": "stream",
          "name": "stdout",
          "text": [
            "OpenClassrooms is really great!\n",
            "OpenClassrooms is really great!\n",
            "OpenClassrooms is really great!\n",
            "OpenClassrooms is really great!\n",
            "OpenClassrooms is really great!\n"
          ]
        }
      ],
      "source": [
        "i = 0\n",
        "while i < 5:\n",
        "    print(\"OpenClassrooms is really great!\")\n",
        "    i += 1"
      ]
    },
    {
      "cell_type": "code",
      "source": [],
      "metadata": {
        "id": "FFQFFZsEKivU"
      },
      "execution_count": null,
      "outputs": []
    }
  ],
  "metadata": {
    "colab": {
      "name": "P3C3 ex.ipynb",
      "provenance": []
    },
    "kernelspec": {
      "display_name": "Python 3.9.7 ('base')",
      "language": "python",
      "name": "python3"
    },
    "language_info": {
      "codemirror_mode": {
        "name": "ipython",
        "version": 3
      },
      "file_extension": ".py",
      "mimetype": "text/x-python",
      "name": "python",
      "nbconvert_exporter": "python",
      "pygments_lexer": "ipython3",
      "version": "3.9.7"
    },
    "vscode": {
      "interpreter": {
        "hash": "0d5b2adc70bf0954b7415f3bc8543415bd6d361c5e0c2c03226caf4972d8a62d"
      }
    }
  },
  "nbformat": 4,
  "nbformat_minor": 0
}